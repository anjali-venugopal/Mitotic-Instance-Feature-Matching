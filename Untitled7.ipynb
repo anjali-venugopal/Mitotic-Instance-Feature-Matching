{
 "cells": [
  {
   "cell_type": "code",
   "execution_count": 2,
   "id": "ec3b04b8",
   "metadata": {},
   "outputs": [],
   "source": [
    "from sklearn.preprocessing import MinMaxScaler\n",
    "from matplotlib import pyplot as plt\n",
    "import numpy as np\n",
    "import pandas as pd\n",
    "import mahotas\n",
    "import cv2\n",
    "import os\n",
    "import h5py"
   ]
  },
  {
   "cell_type": "code",
   "execution_count": 3,
   "id": "e18b9050",
   "metadata": {},
   "outputs": [],
   "source": [
    "from platform import python_version"
   ]
  },
  {
   "cell_type": "code",
   "execution_count": 4,
   "id": "e1e84942",
   "metadata": {
    "scrolled": true
   },
   "outputs": [
    {
     "data": {
      "text/plain": [
       "'3.8.8'"
      ]
     },
     "execution_count": 4,
     "metadata": {},
     "output_type": "execute_result"
    }
   ],
   "source": [
    "python_version()"
   ]
  },
  {
   "cell_type": "code",
   "execution_count": 5,
   "id": "c6383cb7",
   "metadata": {},
   "outputs": [],
   "source": [
    "fixed_size       = tuple((500, 500))\n",
    "bins             = 3"
   ]
  },
  {
   "cell_type": "code",
   "execution_count": 6,
   "id": "fcd21ed4",
   "metadata": {},
   "outputs": [],
   "source": [
    "def fd_hu_moments(image):\n",
    "    image = cv2.cvtColor(image, cv2.COLOR_BGR2GRAY)\n",
    "    feature = cv2.HuMoments(cv2.moments(image)).flatten()\n",
    "    print(\"HuMoments\")\n",
    "    print(feature)\n",
    "    return feature\n",
    "\n",
    "\n",
    "def fd_haralick(image):\n",
    "    gray = cv2.cvtColor(image, cv2.COLOR_BGR2GRAY)\n",
    "    haralick = mahotas.features.haralick(gray).mean(axis=0)\n",
    "    print(\"Haralik\")\n",
    "    print(haralick)\n",
    "    return haralick\n",
    "\n",
    "def fd_histogram(image, mask=None):\n",
    "    image = cv2.cvtColor(image, cv2.COLOR_BGR2HSV)\n",
    "    hist  = cv2.calcHist([image], [0, 1, 2], None, [bins, bins, bins], [0, 256, 0, 256, 0, 256])\n",
    "    print(\"HIST\")\n",
    "    print(hist)\n",
    "    cv2.normalize(hist, hist)\n",
    "    return hist.flatten()\n"
   ]
  },
  {
   "cell_type": "code",
   "execution_count": 7,
   "id": "32e4d90c",
   "metadata": {},
   "outputs": [
    {
     "name": "stdout",
     "output_type": "stream",
     "text": [
      "HuMoments\n",
      "[ 1.14514744e-03  2.48878409e-10  1.73228229e-13  8.04106186e-14\n",
      " -9.35393195e-27  9.92504753e-19 -1.60297910e-27]\n",
      "HIST\n",
      "[[[0.00000e+00 0.00000e+00 9.21400e+03]\n",
      "  [1.00000e+00 3.00000e+00 3.00000e+00]\n",
      "  [0.00000e+00 1.00000e+00 0.00000e+00]]\n",
      "\n",
      " [[3.00000e+00 1.99000e+02 3.46460e+04]\n",
      "  [5.50000e+02 2.62350e+04 1.08385e+05]\n",
      "  [3.84000e+02 1.30740e+04 3.04700e+03]]\n",
      "\n",
      " [[0.00000e+00 7.00000e+00 1.20680e+04]\n",
      "  [1.40000e+01 1.76100e+03 3.40250e+04]\n",
      "  [1.20000e+01 2.32300e+03 4.04500e+03]]]\n"
     ]
    }
   ],
   "source": [
    "image = cv2.imread(\"./A03_00Bc.jpg\")\n",
    "image = cv2.resize(image, fixed_size)\n",
    "fv_hu_moments = fd_hu_moments(image)\n",
    "#fv_haralick   = fd_haralick(image)\n",
    "fv_histogram  = fd_histogram(image)"
   ]
  },
  {
   "cell_type": "code",
   "execution_count": null,
   "id": "9d995a1d",
   "metadata": {},
   "outputs": [],
   "source": []
  }
 ],
 "metadata": {
  "kernelspec": {
   "display_name": "Python 3",
   "language": "python",
   "name": "python3"
  },
  "language_info": {
   "codemirror_mode": {
    "name": "ipython",
    "version": 3
   },
   "file_extension": ".py",
   "mimetype": "text/x-python",
   "name": "python",
   "nbconvert_exporter": "python",
   "pygments_lexer": "ipython3",
   "version": "3.8.8"
  }
 },
 "nbformat": 4,
 "nbformat_minor": 5
}
